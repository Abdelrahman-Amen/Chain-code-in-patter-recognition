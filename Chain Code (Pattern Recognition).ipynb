{
  "nbformat": 4,
  "nbformat_minor": 0,
  "metadata": {
    "colab": {
      "provenance": []
    },
    "kernelspec": {
      "name": "python3",
      "display_name": "Python 3"
    },
    "language_info": {
      "name": "python"
    }
  },
  "cells": [
    {
      "cell_type": "markdown",
      "source": [
        "# Import Libraries"
      ],
      "metadata": {
        "id": "SNNAtkojJFNY"
      }
    },
    {
      "cell_type": "code",
      "execution_count": null,
      "metadata": {
        "id": "spl2EkXEHqhf"
      },
      "outputs": [],
      "source": [
        "import cv2\n",
        "import numpy as np\n",
        "from keras.datasets import mnist\n",
        "from google.colab.patches import cv2_imshow\n",
        "from sklearn.ensemble import RandomForestClassifier\n",
        "from sklearn.model_selection import train_test_split\n",
        "from sklearn.metrics import accuracy_score"
      ]
    },
    {
      "cell_type": "markdown",
      "source": [
        "# Load Data"
      ],
      "metadata": {
        "id": "2yhtlDszLtra"
      }
    },
    {
      "cell_type": "code",
      "source": [
        "# Load MNIST dataset\n",
        "(x_train, y_train), (x_test, y_test) = mnist.load_data()\n",
        "\n",
        "# Concatenate x_test with x_train\n",
        "X = np.concatenate((x_train, x_test), axis=0)\n",
        "\n",
        "# Concatenate y_test with y_train\n",
        "y = np.concatenate((y_train, y_test), axis=0)\n",
        "\n",
        "# Check the shape of concatenated data\n",
        "print(\"Shape of concatenated_x:\", X.shape)\n",
        "print(\"Shape of concatenated_y:\", y.shape)"
      ],
      "metadata": {
        "colab": {
          "base_uri": "https://localhost:8080/"
        },
        "id": "kGrs_scCHtJr",
        "outputId": "e832608c-3aac-436a-883c-f9d67a8782f6"
      },
      "execution_count": null,
      "outputs": [
        {
          "output_type": "stream",
          "name": "stdout",
          "text": [
            "Downloading data from https://storage.googleapis.com/tensorflow/tf-keras-datasets/mnist.npz\n",
            "11490434/11490434 [==============================] - 0s 0us/step\n",
            "Shape of concatenated_x: (70000, 28, 28)\n",
            "Shape of concatenated_y: (70000,)\n"
          ]
        }
      ]
    },
    {
      "cell_type": "code",
      "source": [
        "# Select one image from the dataset\n",
        "image_index = 150  # Change this index to select a different image\n",
        "image = X[image_index]"
      ],
      "metadata": {
        "id": "X9YC6_2QHtM8"
      },
      "execution_count": null,
      "outputs": []
    },
    {
      "cell_type": "code",
      "source": [
        "# Resize image to width 400 while preserving aspect ratio\n",
        "new_width = 400\n",
        "aspect_ratio = image.shape[1] / image.shape[0]\n",
        "new_height = int(new_width / aspect_ratio)\n",
        "resized_image = cv2.resize(image, (new_width, new_height))\n",
        "# Threshold the resized image\n",
        "_, thresholded_image = cv2.threshold(resized_image, 127, 255, cv2.THRESH_BINARY)\n",
        "\n",
        "# Find contours\n",
        "contours, _ = cv2.findContours(thresholded_image, cv2.RETR_EXTERNAL, cv2.CHAIN_APPROX_SIMPLE)   # Boundary"
      ],
      "metadata": {
        "id": "RcososqAHtPr"
      },
      "execution_count": null,
      "outputs": []
    },
    {
      "cell_type": "code",
      "source": [
        "# Plot the resized image with its boundary contour\n",
        "resized_image_with_contour = cv2.drawContours(resized_image.copy(), contours, -1, (255, 100, 255), 2)\n",
        "# Display the resized image with its boundary contour\n",
        "cv2_imshow(resized_image_with_contour)\n",
        "cv2.waitKey(0)\n",
        "cv2.destroyAllWindows()"
      ],
      "metadata": {
        "colab": {
          "base_uri": "https://localhost:8080/",
          "height": 417
        },
        "id": "icRQORvNIy1k",
        "outputId": "10539b65-ba17-4a81-e998-8dab9c7008af"
      },
      "execution_count": null,
      "outputs": [
        {
          "output_type": "display_data",
          "data": {
            "text/plain": [
              "<PIL.Image.Image image mode=L size=400x400>"
            ],
            "image/png": "[encoded data removed]"
          },
          "metadata": {}
        }
      ]
    },
    {
      "cell_type": "markdown",
      "source": [
        "#Extract chain code from contour using 8-connectivity\n"
      ],
      "metadata": {
        "id": "UDeg-fo6IOT3"
      }
    },
    {
      "cell_type": "code",
      "source": [
        "def extract_chain_code(contour):\n",
        "    chain_code = []\n",
        "    directions = [(0, 1), (-1, 1), (-1, 0), (-1, -1), (0, -1), (1, -1), (1, 0), (1, 1)]   # 8 Connectivity\n",
        "\n",
        "    for i in range(len(contour) - 1):\n",
        "        dx = contour[i+1][0][0] - contour[i][0][0]\n",
        "        dy = contour[i+1][0][1] - contour[i][0][1]\n",
        "\n",
        "        # Normalize dx and dy to be in range [-1, 1]\n",
        "        dx_normalized = np.sign(dx)\n",
        "        dy_normalized = np.sign(dy)\n",
        "\n",
        "        direction = directions.index((dx_normalized, dy_normalized))\n",
        "        chain_code.append(direction)\n",
        "\n",
        "    return chain_code"
      ],
      "metadata": {
        "id": "7IBpT6niHtR9"
      },
      "execution_count": null,
      "outputs": []
    },
    {
      "cell_type": "markdown",
      "source": [
        "#Calculate chain code"
      ],
      "metadata": {
        "id": "iYgwU3hjIdaB"
      }
    },
    {
      "cell_type": "code",
      "source": [
        "def calculate_chain_code_dimensions(image):\n",
        "    # Threshold the image\n",
        "    _, thresholded_image = cv2.threshold(image, 127, 255, cv2.THRESH_BINARY)\n",
        "\n",
        "    # Find contours\n",
        "    contours, _ = cv2.findContours(thresholded_image, cv2.RETR_EXTERNAL, cv2.CHAIN_APPROX_SIMPLE)\n",
        "\n",
        "    # Find the largest contour\n",
        "    largest_contour = max(contours, key=cv2.contourArea) # processing the most significant part of the image\n",
        "\n",
        "    # Get chain code sequence for the largest contour\n",
        "    chain_code_sequence = extract_chain_code(largest_contour)\n",
        "\n",
        "    return chain_code_sequence"
      ],
      "metadata": {
        "id": "JTnfSHrXHtUj"
      },
      "execution_count": null,
      "outputs": []
    },
    {
      "cell_type": "code",
      "source": [
        "# Calculate chain code dimensions for all images\n",
        "chain_code_sequences = []\n",
        "for image in X:\n",
        "    sequence = calculate_chain_code_dimensions(image)\n",
        "    chain_code_sequences.append(sequence)"
      ],
      "metadata": {
        "id": "M4_W8yhXHtXk"
      },
      "execution_count": null,
      "outputs": []
    },
    {
      "cell_type": "code",
      "source": [
        "# Pad chain codes with zeros to make them uniform\n",
        "max_length = max(len(code) for code in chain_code_sequences)\n",
        "chain_codes_padded = [code + [8] * (max_length - len(code)) for code in chain_code_sequences]"
      ],
      "metadata": {
        "id": "K-THT7L-HtbA"
      },
      "execution_count": null,
      "outputs": []
    },
    {
      "cell_type": "code",
      "source": [
        "# Convert chain codes to NumPy array\n",
        "X = np.array(chain_codes_padded)\n",
        "# Print the shape of chain code dimensions\n",
        "print(\"Shape of chain code dimensions:\", X.shape)"
      ],
      "metadata": {
        "colab": {
          "base_uri": "https://localhost:8080/"
        },
        "id": "S6KqudRsHtdj",
        "outputId": "8c73ff2c-d4ca-40cc-bf66-6695d554297d"
      },
      "execution_count": null,
      "outputs": [
        {
          "output_type": "stream",
          "name": "stdout",
          "text": [
            "Shape of chain code dimensions: (70000, 73)\n"
          ]
        }
      ]
    },
    {
      "cell_type": "code",
      "source": [
        "# Create train-test split\n",
        "X_train, X_test, y_train, y_test = train_test_split(X, y, test_size=0.25, random_state=42)"
      ],
      "metadata": {
        "id": "v2eD0pjbI9x6"
      },
      "execution_count": null,
      "outputs": []
    },
    {
      "cell_type": "markdown",
      "source": [
        "# Random Forest classifier"
      ],
      "metadata": {
        "id": "K2tonDVyJAhd"
      }
    },
    {
      "cell_type": "code",
      "source": [
        "# Initialize Random Forest classifier\n",
        "rf_classifier = RandomForestClassifier(n_estimators=200, random_state=42)\n",
        "\n",
        "# Fit the classifier to the training data\n",
        "rf_classifier.fit(X_train, y_train)\n",
        "\n",
        "# Predict on the testing data\n",
        "y_pred = rf_classifier.predict(X_test)\n",
        "\n",
        "# Calculate accuracy\n",
        "accuracy = accuracy_score(y_test, y_pred)\n",
        "print(\"Accuracy:\", accuracy)"
      ],
      "metadata": {
        "colab": {
          "base_uri": "https://localhost:8080/"
        },
        "id": "E5qitzUKHtjf",
        "outputId": "71adbccc-9572-476f-94c6-c9a9a5766b87"
      },
      "execution_count": null,
      "outputs": [
        {
          "output_type": "stream",
          "name": "stdout",
          "text": [
            "Accuracy: 0.8518857142857142\n"
          ]
        }
      ]
    }
  ]
}